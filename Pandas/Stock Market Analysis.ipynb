{
 "cells": [
  {
   "cell_type": "code",
   "execution_count": null,
   "id": "d1550972-1ca3-40f6-9ece-49fa1f9c3816",
   "metadata": {},
   "outputs": [],
   "source": [
    "#Importing required libraries.\n",
    "import pandas as pd\n",
    "import warnings\n",
    "warnings.filterwarnings(\"ignore\")"
   ]
  },
  {
   "cell_type": "code",
   "execution_count": null,
   "id": "76faa157-8976-4d47-b836-db8766fb3d83",
   "metadata": {},
   "outputs": [],
   "source": [
    "#Loading data from csv files.\n",
    "apple = pd.read_csv(\"apple_data.csv\")\n",
    "facebook = pd.read_csv(\"facebook_data.csv\")\n",
    "google = pd.read_csv(\"google_data.csv\")\n",
    "nvidia = pd.read_csv(\"nvidia_data.csv\")\n",
    "tesla = pd.read_csv(\"tesla_data.csv\")\n",
    "twitter = pd.read_csv(\"twitter_data.csv\")"
   ]
  },
  {
   "cell_type": "code",
   "execution_count": null,
   "id": "c1df4b1c-ccf3-4654-84dc-ad548fa82464",
   "metadata": {},
   "outputs": [],
   "source": [
    "#Apple\n",
    "apple.head()"
   ]
  },
  {
   "cell_type": "code",
   "execution_count": null,
   "id": "b86fd704-6004-4d89-b0c1-5434590ec2a5",
   "metadata": {},
   "outputs": [],
   "source": [
    "#Facebook\n",
    "facebook.head()"
   ]
  },
  {
   "cell_type": "code",
   "execution_count": null,
   "id": "b25f962d-ad3e-47c1-9f87-4d9302c73f28",
   "metadata": {},
   "outputs": [],
   "source": [
    "#Google\n",
    "google.head()"
   ]
  },
  {
   "cell_type": "code",
   "execution_count": null,
   "id": "c5e336f0-6530-4490-93e8-7d1fb3a06d15",
   "metadata": {},
   "outputs": [],
   "source": [
    "#Nvidia\n",
    "nvidia.head()"
   ]
  },
  {
   "cell_type": "code",
   "execution_count": null,
   "id": "09e5b9b4-2b24-4092-979d-bc0e5530dee1",
   "metadata": {},
   "outputs": [],
   "source": [
    "#Tesla\n",
    "tesla.head()"
   ]
  },
  {
   "cell_type": "code",
   "execution_count": null,
   "id": "c84d269c-9615-4ef1-aee2-86b0e478e371",
   "metadata": {},
   "outputs": [],
   "source": [
    "#Twitter\n",
    "twitter.head()"
   ]
  },
  {
   "cell_type": "code",
   "execution_count": null,
   "id": "4b6934e0-4023-41a7-b3b8-873c697f4046",
   "metadata": {},
   "outputs": [],
   "source": [
    "#Creating a list of dataframes.\n",
    "df = [apple, facebook, google, nvidia, tesla, twitter]"
   ]
  },
  {
   "cell_type": "code",
   "execution_count": null,
   "id": "f6b99ea0-64b8-4b69-8984-b71e220a853c",
   "metadata": {},
   "outputs": [],
   "source": [
    "#Aplying functions in all our dataframes, creating columns and addding values."
   ]
  },
  {
   "cell_type": "code",
   "execution_count": null,
   "id": "9dc072eb-a98f-4ff8-a725-8362de30a0f6",
   "metadata": {},
   "outputs": [],
   "source": [
    "#Moving Average.\n",
    "for i in df:\n",
    "    i['MA50'] = i.Close.rolling(50).mean()\n",
    "    i['MA200'] = i.Close.rolling(200).mean()"
   ]
  },
  {
   "cell_type": "code",
   "execution_count": null,
   "id": "3cfddac7-ede4-4c53-8b8d-08df281d019f",
   "metadata": {},
   "outputs": [],
   "source": [
    "#apple.head(50)"
   ]
  },
  {
   "cell_type": "code",
   "execution_count": null,
   "id": "df35ffa2-d6d9-4941-a89c-970e3a8799da",
   "metadata": {},
   "outputs": [],
   "source": [
    "#Creating column 'Previous day closing price'.\n",
    "for i in df:\n",
    "    i['Previous day closing price'] = i.Close.shift(1)"
   ]
  },
  {
   "cell_type": "code",
   "execution_count": null,
   "id": "0b40e908-9f78-41f4-a576-f95fd0bd4b40",
   "metadata": {},
   "outputs": [],
   "source": [
    "apple.head()"
   ]
  },
  {
   "cell_type": "code",
   "execution_count": null,
   "id": "fcbd122c-f7d0-4d0c-94c4-4ce8207b23cb",
   "metadata": {},
   "outputs": [],
   "source": [
    "#Change in price.\n",
    "for i in df:\n",
    "    i['Change in price'] = i['Close'] - i['Previous day closing price']"
   ]
  },
  {
   "cell_type": "code",
   "execution_count": null,
   "id": "202c123a-8b2e-4b39-8566-23989ecafbba",
   "metadata": {},
   "outputs": [],
   "source": [
    "apple.head()"
   ]
  },
  {
   "cell_type": "code",
   "execution_count": null,
   "id": "f774eb12-07c9-4fb4-a01c-6ce38c118254",
   "metadata": {},
   "outputs": [],
   "source": [
    "for d in df:\n",
    "    d['Percent change in price'] = d.Close.pct_change()"
   ]
  },
  {
   "cell_type": "code",
   "execution_count": null,
   "id": "2bd6a1df-54f5-4c71-9344-9a520cb52a83",
   "metadata": {},
   "outputs": [],
   "source": [
    "apple.head()"
   ]
  },
  {
   "cell_type": "code",
   "execution_count": null,
   "id": "a55e5ec1-1215-440c-9881-9293536fdd62",
   "metadata": {},
   "outputs": [],
   "source": [
    "for d in df:\n",
    "    d['Previous day volume'] = d.Volume.shift(1)"
   ]
  },
  {
   "cell_type": "code",
   "execution_count": null,
   "id": "cea8cdca-8429-47ea-b463-a0667d22fc42",
   "metadata": {},
   "outputs": [],
   "source": [
    "apple.head()"
   ]
  },
  {
   "cell_type": "code",
   "execution_count": null,
   "id": "a9d8405d-2b24-4216-8126-7adde1429721",
   "metadata": {},
   "outputs": [],
   "source": [
    "for d in df:\n",
    "    d['Change in volume'] = d['Volume'] - d['Previous day volume']"
   ]
  },
  {
   "cell_type": "code",
   "execution_count": null,
   "id": "d87c6982-6280-4d31-b5d8-3ea486643aa0",
   "metadata": {},
   "outputs": [],
   "source": [
    "apple.head()"
   ]
  },
  {
   "cell_type": "code",
   "execution_count": null,
   "id": "41fd1982-fe5a-423f-a8ac-6d73bf532794",
   "metadata": {},
   "outputs": [],
   "source": [
    "for d in df:\n",
    "    d['Percent change in volume'] = d.Volume.pct_change()"
   ]
  },
  {
   "cell_type": "code",
   "execution_count": null,
   "id": "7faae4c7-5702-4c3e-a38a-cb6016abe699",
   "metadata": {
    "scrolled": true
   },
   "outputs": [],
   "source": [
    "apple.head()"
   ]
  },
  {
   "cell_type": "code",
   "execution_count": null,
   "id": "44c94894-1867-4c75-85b6-05519a5d8163",
   "metadata": {},
   "outputs": [],
   "source": [
    "#Exporting the files.\n",
    "apple.to_csv('Apple.csv')\n",
    "facebook.to_csv('Facebook.csv')\n",
    "google.to_csv('Google.csv')\n",
    "nvidia.to_csv('Nvidia.csv')\n",
    "tesla.to_csv('Tesla.csv')\n",
    "twitter.to_csv('Twitter.csv')"
   ]
  }
 ],
 "metadata": {
  "kernelspec": {
   "display_name": "Python 3 (ipykernel)",
   "language": "python",
   "name": "python3"
  },
  "language_info": {
   "codemirror_mode": {
    "name": "ipython",
    "version": 3
   },
   "file_extension": ".py",
   "mimetype": "text/x-python",
   "name": "python",
   "nbconvert_exporter": "python",
   "pygments_lexer": "ipython3",
   "version": "3.12.6"
  }
 },
 "nbformat": 4,
 "nbformat_minor": 5
}
